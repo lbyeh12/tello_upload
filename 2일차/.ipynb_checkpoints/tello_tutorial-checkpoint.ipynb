{
 "cells": [
  {
   "cell_type": "code",
   "execution_count": 14,
   "metadata": {},
   "outputs": [
    {
     "name": "stdout",
     "output_type": "stream",
     "text": [
      "라이브러리 임포트 성공!\n"
     ]
    }
   ],
   "source": [
    "from djitellopy import Tello\n",
    "import cv2\n",
    "import numpy as np\n",
    "\n",
    "print(\"라이브러리 임포트 성공!\")"
   ]
  },
  {
   "cell_type": "code",
   "execution_count": 20,
   "metadata": {},
   "outputs": [
    {
     "name": "stderr",
     "output_type": "stream",
     "text": [
      "[INFO] tello.py - 131 - Tello instance was initialized. Host: '192.168.10.1'. Port: '8889'.\n",
      "[INFO] tello.py - 450 - Send command: 'command'\n"
     ]
    },
    {
     "name": "stdout",
     "output_type": "stream",
     "text": [
      "드론에 연결 중...\n",
      "오류 발생: '192.168.10.1'\n",
      "드론이 연결되어 있고 WiFi가 'TELLO-XXXXXX'에 연결되어 있는지 확인해주세요.\n"
     ]
    }
   ],
   "source": [
    "# Tello 드론 객체 생성\n",
    "tello = Tello()\n",
    "\n",
    "try:\n",
    "    # 드론에 연결\n",
    "    print(\"드론에 연결 중...\")\n",
    "    tello.connect()\n",
    "    \n",
    "    # 배터리 잔량 확인\n",
    "    battery = tello.get_battery()\n",
    "    print(f\"배터리 잔량: {battery}%\")\n",
    "    \n",
    "    # 온도 확인 (드론의 온도)\n",
    "    temp = tello.get_temperature()\n",
    "    print(f\"드론 온도: {temp}°C\")\n",
    "    \n",
    "    # 비행 시간 (현재 세션)\n",
    "    flight_time = tello.get_flight_time()\n",
    "    print(f\"비행 시간: {flight_time}초\")\n",
    "    \n",
    "except Exception as e:\n",
    "    print(f\"오류 발생: {str(e)}\")\n",
    "    print(\"드론이 연결되어 있고 WiFi가 'TELLO-XXXXXX'에 연결되어 있는지 확인해주세요.\")\n",
    "finally:\n",
    "    # 연결 종료\n",
    "    tello.end()"
   ]
  },
  {
   "cell_type": "code",
   "execution_count": 9,
   "metadata": {},
   "outputs": [
    {
     "name": "stderr",
     "output_type": "stream",
     "text": [
      "[INFO] tello.py - 131 - Tello instance was initialized. Host: '192.168.10.1'. Port: '8889'.\n",
      "[INFO] tello.py - 450 - Send command: 'command'\n"
     ]
    },
    {
     "name": "stdout",
     "output_type": "stream",
     "text": [
      "드론에 연결 중...\n",
      "오류 발생: '192.168.10.1'\n",
      "안전을 위해 프로그램을 종료합니다.\n"
     ]
    }
   ],
   "source": [
    "# Tello 드론 객체 생성\n",
    "tello = Tello()\n",
    "\n",
    "try:\n",
    "    # 드론에 연결\n",
    "    print(\"드론에 연결 중...\")\n",
    "    tello.connect()\n",
    "    \n",
    "    # 배터리 확인 (안전을 위해)\n",
    "    battery = tello.get_battery()\n",
    "    print(f\"배터리 잔량: {battery}%\")\n",
    "    \n",
    "    if battery < 1:\n",
    "        print(\"경고: 배터리가 너무 부족합니다!\")\n",
    "        raise Exception(\"배터리 부족\")\n",
    "    \n",
    "    input(\"이륙 준비가 되었다면 Enter를 눌러주세요... (충분한 공간 확보 필요)\")\n",
    "    \n",
    "    # 이륙\n",
    "    print(\"이륙 중...\")\n",
    "    tello.takeoff()\n",
    "    print(\"이륙 완료!\")\n",
    "    \n",
    "    # 3초 대기\n",
    "    import time\n",
    "    time.sleep(3)\n",
    "    \n",
    "    # 착륙\n",
    "    print(\"착륙 중...\")\n",
    "    tello.land()\n",
    "    print(\"착륙 완료!\")\n",
    "    \n",
    "except Exception as e:\n",
    "    print(f\"오류 발생: {str(e)}\")\n",
    "    print(\"안전을 위해 프로그램을 종료합니다.\")\n",
    "    \n",
    "finally:\n",
    "    # 연결 종료\n",
    "    tello.end()"
   ]
  }
 ],
 "metadata": {
  "kernelspec": {
   "display_name": ".venv",
   "language": "python",
   "name": "python3"
  },
  "language_info": {
   "codemirror_mode": {
    "name": "ipython",
    "version": 3
   },
   "file_extension": ".py",
   "mimetype": "text/x-python",
   "name": "python",
   "nbconvert_exporter": "python",
   "pygments_lexer": "ipython3",
   "version": "3.9.6"
  }
 },
 "nbformat": 4,
 "nbformat_minor": 2
}
